{
  "cells": [
    {
      "cell_type": "markdown",
      "metadata": {
        "id": "RwXj1Hb1IQwT"
      },
      "source": [
        "[Accueil](../../../index.ipynb) > [Sommaire de Terminale](../../index.ipynb)"
      ]
    },
    {
      "cell_type": "markdown",
      "metadata": {
        "id": "fVjuFz1sIQwU"
      },
      "source": [
        "# 2.3 Structure de données : Pile et File\n",
        "\n",
        "Un des problèmes fondamentaux de l'informatique est le stockage des données. Pour les stocker et les manipuler de façon optimale il est nécessaire d'utiliser des structures de donnnées adaptées au problème posé.\n",
        "\n",
        "Nous allons découvrir dans ce cours deux types de structures simples:\n",
        "\n",
        "- Les piles (stacks)\n",
        "- Les files (queues)\n",
        "\n",
        "\n",
        "Les piles et les files sont des structures **linéaires**. (contrairement aux arbres et aux graphes)"
      ]
    },
    {
      "cell_type": "markdown",
      "metadata": {
        "heading_collapsed": true,
        "id": "HHZegcGSIQwV"
      },
      "source": [
        "<a id=stacks></a>\n",
        "## Les piles\n",
        "Une pile (*stack* en anglais) est une structure de donnée fondée sur le principe \"Dernier arrivé, premier sorti\".\n",
        "\n",
        "En anglais on nomme ce principe \"<span style=\"color:red\">LIFO</span>\" pour \"**L**ast **I**n **F**irst **O**ut\".\n",
        "<img title=\"a stack image\" src=\"https://github.com/saintlouis29/coursNSI/blob/main/Terminale/2_Structures_de_donnees/Pile_et_File/stack.jpg?raw=1\"/>\n",
        "[source de l'image](https://dev.to/rinsama77/data-structure-stack-and-queue-4ecd)\n",
        "\n",
        "__Définition__ : On dit qu'une liste a une structure en pile si seule la dernière donnée ajoutée à la liste est accessible."
      ]
    },
    {
      "cell_type": "markdown",
      "metadata": {
        "heading_collapsed": true,
        "id": "9cm-q_LSIQwV"
      },
      "source": [
        "### Utilisation\n",
        "\n",
        "Voici quelques utilisations de ce type de structure de données:\n",
        "\n",
        "- l'historique de navigation d'un navigateur web\n",
        "- la fonction *undo* d'un logiciel\n",
        "- l'interpréteur Python : la pile est visible lorsqu'une erreur se produit.\n",
        "- ..."
      ]
    },
    {
      "cell_type": "markdown",
      "metadata": {
        "id": "T8sig_2KIQwW"
      },
      "source": [
        "### Exemple concret\n",
        "\n",
        "Voici un chargeur de Kalashnikov <img src=\"https://github.com/saintlouis29/coursNSI/blob/main/Terminale/2_Structures_de_donnees/Pile_et_File/kalash_magazine.jpg?raw=1\" width=\"150px\">\n",
        "\n",
        "Le magasin des munitions constitue une pile. (de taille limitée)"
      ]
    },
    {
      "cell_type": "markdown",
      "metadata": {
        "heading_collapsed": true,
        "id": "0YTkJJPuIQwW"
      },
      "source": [
        "### Les primitives\n",
        "\n",
        "Pour implémenter une pile il est nécessaire qu'elle implémente les fonctions suivantes, et uniquement celles-ci (voir le concept d'encapsulation dans la partie POO):\n",
        "- Créer une pile vide, retourne la pile;\n",
        "- Vérifier que la pile est vide (is_empty()), retourne Boolean;\n",
        "- Empiler un élément dans la pile (push(element)), retourne la pile;\n",
        "- Dépiler un élément de la pile (pop()), retourne l'élement dépilé (retourne IndexError si la pile est vide);\n",
        "- Connaitre l'élement du sommet de la pile sans dépiler (summit), retourne l'élement. (retourne IndexError si la pile est vide);\n",
        "- Connaire la taille de la pile (size), retourne un entier."
      ]
    },
    {
      "cell_type": "markdown",
      "metadata": {
        "heading_collapsed": true,
        "id": "YV4PpN_5IQwX"
      },
      "source": [
        "### Implémentation en Python\n",
        "\n",
        "<div class=\"alert alert-info\">\n",
        "\n",
        "Avant de commencer, créer un python virtuel que vous nommerez *structures*. Ce python virtuel nous servira pour de nombreux projets sur les structures de données.\n",
        "\n",
        "</div>\n",
        "\n",
        "En python, il existe le type de données *list, qui permet d'implémenter facilement une *pile* (stack).\n",
        "\n",
        "Lors de l'implémentation de notre pile nous allons utiliser un mode de développement que l'on appelle [test driven development](https://fr.wikipedia.org/wiki/Test_driven_development).\n",
        "\n",
        "Un des principes fondamentaux est d'écrire les tests unitaires de chaque méthode de l'interface **AVANT** d'implémenter la méthode."
      ]
    },
    {
      "cell_type": "markdown",
      "metadata": {
        "heading_collapsed": true,
        "id": "-WK9LJYEIQwX"
      },
      "source": [
        "#### Récupération d'un squelette de code\n",
        "\n",
        "\n",
        "- Se connecter sur Github;\n",
        "- Aller sur https://github.com/saintlouis29/sl29.structures.stack/;\n",
        "- Faire un **fork** de ce projet;\n",
        "- Rappatrier le fork en local;\n",
        "- Lire le README.\n",
        "\n",
        "**Il est temps de coder, mais avec le développement pilotés par les tests**"
      ]
    },
    {
      "cell_type": "markdown",
      "metadata": {
        "id": "8lPAgZm6IQwX"
      },
      "source": [
        "#### Lancement des tests unitaires\n",
        "\n",
        "- Lire **attentivement** le module *test.py* : il contient 5 jeux de tests qui permettent de vérifier que l'implémentation est correcte.\n",
        "- Lire le module *stack.py* : il contient les méthodes de l'**interface** de notre pile, mais elles ne sont pas implémentées.\n",
        "\n",
        "Executer le fichier test.py\n",
        "\n",
        "Vous devriez obtenir ceci:\n",
        "\n",
        "<pre>\n",
        "Ran 5 tests in 0.000s\n",
        "\n",
        "FAILED (errors=5)\n",
        "</pre>\n",
        "\n",
        "\n",
        "C'est tout à fait normal : les tests échouent car aucune implémentation n'existe."
      ]
    },
    {
      "cell_type": "markdown",
      "metadata": {
        "id": "7RIb8JyFIQwY"
      },
      "source": [
        "#### Codage\n",
        "\n",
        "<div class=\"alert alert-info\">\n",
        "    A chaque fois, vous lancez les tests unitaires.\n",
        "    Quand un nouveau test d'implémentation de l'interface passe:\n",
        "\n",
        "- git add stack.py\n",
        "- git commit -m \"Implémentation de XXX\"\n",
        "\n",
        "</div>\n",
        "\n",
        "- Implémentation du constructeur *\\_\\_init\\_\\_* ( self._elements=[] );\n",
        "- Implémentation de *push*;\n",
        "- Implémentation de *pop*;\n",
        "- Implémentation de *size*;\n",
        "- Ajouter également la méthode \\_\\_repr\\_\\_ qui permet d'afficher votre pile. (On prendra la représentation du tuple, le haut de la pile étant sur la gauche)\n",
        "- Implémentation de *summit*.\n",
        "\n",
        "Quand les **5 tests** sont validés, votre implémentation de la pile est finie.\n",
        "\n",
        "<div class=\"alert alert-warning\">\n",
        "    Des tests qui réussissent ne garantissent pas l'absence de bug. Mais quand un bug est trouvé:\n",
        "    \n",
        "- **avant de le corriger**, on écrit un test qui permet de reproduire de bug (donc le test échoue).\n",
        "- ensuite, on modifie le code de l'implémentation.\n",
        "- si le nouveau test passe, le bug est corrigé.\n",
        "\n",
        "Evidemment il peut en rester d'autres mais cela en fait **un de moins**, et il est systématiquement testé.\n",
        "</div>\n",
        "\n",
        "<div class=\"alert alert-success\">\n",
        "    \n",
        "Votre dépot sl29.structures.stack va vous servir pendant de nombreux projets. Assurez vous donc que TOUT fonctionne parfaitement.\n",
        "\n",
        "</div>\n",
        "\n"
      ]
    },
    {
      "cell_type": "markdown",
      "metadata": {
        "id": "GrnPXdajIQwY"
      },
      "source": [
        "### Applications de votre pile\n",
        "\n",
        "#### Un *parser* d'expressions mathématiques\n",
        "- A l'extérieur du dépôt *sl29.structures.stack*, créer un fichier parser.py( to *parse* signifie *analyser*)\n",
        "- Dans ce fichier parser.py, utiliser votre projet stack : *from sl29.structures.stack import Stack*\n",
        "- Créer une fonction parse_checker(string) qui retourne *True* si les parenthèses d'une expression sont équilibrées, *False* sinon.\n",
        "- voici une liste d'expression à vérifier\n",
        "\n",
        "~~~python\n",
        "\n",
        "expressions = ('', '2x(x+1)','2x((x+1)','2x+1)', '2x(x+1)(x+2)(x+3)','2x(x+1)(x+2)((x+3)','2x(x+1)(x+2))(x+3)','','(','()',')(')\n",
        "~~~\n",
        "\n",
        "En bouclant sur chaque élément de cette liste, vous devriez obtenir les résultats suivants:\n",
        "\n",
        "- True\n",
        "- False\n",
        "- False\n",
        "- True\n",
        "- False\n",
        "- False\n",
        "- True\n",
        "- False\n",
        "- True\n",
        "- False\n",
        "\n",
        "<div class = \"alert alert-info\">\n",
        "    Quel est le rapport entre une analyse de ces expressions mathématiques et l'utilisation d'une pile ? Je vous laisse y réfléchir entre vous...\n",
        "</div>\n",
        "\n",
        "#### Le jeu de la tour de Hanoi\n",
        "\n",
        "Voir le [TP Hanoi](../../TPs/Hanoi/tp_hanoi.ipynb)"
      ]
    },
    {
      "cell_type": "markdown",
      "metadata": {
        "id": "WUT4CxelIQwY"
      },
      "source": [
        "<a id=queues></a>\n",
        "## Les files\n",
        "\n",
        "Une file (*queue* en anglais) est une structure de donnée fondée sur le principe \"Premier arrivé, premier sorti\".\n",
        "\n",
        "En anglais on nomme ce principe \"FIFO\" pour \"**F**irst **I**n **F**irst **O**ut\".\n",
        "<img title=\"a queue image\" src=\"https://github.com/saintlouis29/coursNSI/blob/main/Terminale/2_Structures_de_donnees/Pile_et_File/queue.png?raw=1\"/>\n",
        "[source de l'image](https://dev.to/rinsama77/data-structure-stack-and-queue-4ecd)"
      ]
    },
    {
      "cell_type": "markdown",
      "metadata": {
        "id": "vsV19J3AIQwY"
      },
      "source": [
        "### Utilisation\n",
        "\n",
        "- serveur d'impression\n",
        "- parcours d'un arbre en largeur (on verra cela avec les arbres)\n",
        "- playlist dans un logiciel de musique\n",
        "- ..."
      ]
    },
    {
      "cell_type": "markdown",
      "metadata": {
        "id": "zKfxNAvIIQwZ"
      },
      "source": [
        "### Les primitives\n",
        "\n",
        "Pour implémenter une file il est nécessaire qu'elle implémente les fonctions suivantes, et uniquement celles-ci (voir le concept d'[encapsulation](../Langage_Objet/Le_langage_objet.ipynb#2.2_encapsulation) dans la partie POO):\n",
        "- Créer une file vide, retourne la file;\n",
        "- Vérifier que la file est vide (isEmpty()), retourne Boolean;\n",
        "- Enfiler un élément dans la file (enqueue(element)), retourne la file;\n",
        "- Defiler un élément de la file (dequeue(element)), retourne l'élement défilé (retourne IndexError si la file est vide);\n",
        "- Connaitre l'élement du sommet de la tête de la queue (head), retourne l'élement. (retourne IndexError si la file est vide);\n",
        "- Contaire la taille de la file (size), retourne un entier."
      ]
    },
    {
      "cell_type": "markdown",
      "metadata": {
        "tags": [],
        "id": "NLBcQgTKIQwZ"
      },
      "source": [
        "### Implémentation en Python\n",
        "\n",
        "On pourrait utiliser les listes de Python pour implémenter notre file. Nous allons plutôt utiliser **collections.deque** qui est optimisé pour l'ajout/suppression dans la tête/queue.\n",
        "\n",
        "Voir la [documentation](https://docs.python.org/fr/3/library/collections.html#collections.deque).\n",
        "\n",
        "Comme pour la pile, nous allons ici utiliser la méthode de développement piloté par les tests."
      ]
    },
    {
      "cell_type": "markdown",
      "metadata": {
        "heading_collapsed": true,
        "id": "i8iYg8sTIQwZ"
      },
      "source": [
        "#### Fork du squelette de code\n",
        "\n",
        "- Sur github, aller sur https://github.com/saintlouis29/sl29.structures.queue\n",
        "- Forker ce dépôt chez vous\n",
        "- /!\\ Renommer queue.py en my_queue.py (git mv queue.py my_queue.py) car il existe déjà un fichier queue.py dans le python system.\n",
        "- Modifier les imports en conséquence dans le *tests.py* et dans le fichier *\\_\\_init\\_\\_.py*.\n",
        "- Faire un premier commit de votre fork ( git commit -m \"début du projet stack\" )\n",
        "\n",
        "**Il est temps de coder, mais avec le développement pilotés par les tests**"
      ]
    },
    {
      "cell_type": "markdown",
      "metadata": {
        "id": "tnAso8X8IQwZ"
      },
      "source": [
        "#### Codage\n",
        "Comme pour la pile, lancez les tests unitaires, codez, etc... etc...\n",
        "**Bien faire un commit à chaque nouvelle implémentation réussie**"
      ]
    },
    {
      "cell_type": "markdown",
      "metadata": {
        "id": "u-tuAQIcIQwZ"
      },
      "source": [
        "#### Utilisation de notre file\n",
        "\n",
        "Reprendre le projet Fighter que nous avions fait en début d'année.\n",
        "\n",
        "Créer le fichier **tournament.py**\n",
        "\n",
        "Dans ce fichier, vous allez créer une fonction do_tournament(fighters) qui va prendre en paramètre une liste de nom de fighters et qui va automatiser le tournoi et retourner le gagnant du tournoi.\n",
        "\n",
        "Voici la liste des $2^3$ fighers  : fighters_names = ['Marcel', 'Raymond', 'Gérard', 'Jean-Pierre', 'Chantal', 'Germaine', 'Rachel', 'Odette']\n",
        "\n",
        "Comment utiliser une file pour ce tournoi ?"
      ]
    },
    {
      "cell_type": "markdown",
      "metadata": {
        "id": "yBrl72ZaIQwZ"
      },
      "source": [
        "## Bibliographie\n",
        "\n",
        "- [monlyceenumerique.fr](http://monlyceenumerique.fr/nsi_terminale/sd/sd1_interface.html)\n",
        "- [lyceum.fr](https://lyceum.fr/tg/nsi/1-structures-de-donnees/3-structures-lineaires-piles,-files)\n",
        "- [Wikipedia - Pile](https://fr.wikipedia.org/wiki/Pile_(informatique))\n",
        "- [Wikipedia - File](https://fr.wikipedia.org/wiki/File_(structure_de_donn%C3%A9es))"
      ]
    },
    {
      "cell_type": "markdown",
      "metadata": {
        "id": "hBlv5JZMIQwZ"
      },
      "source": [
        "[Accueil](../../../index.ipynb) > [Sommaire de Terminale](../../index.ipynb)"
      ]
    }
  ],
  "metadata": {
    "kernelspec": {
      "display_name": "Python 3 (ipykernel)",
      "language": "python",
      "name": "python3"
    },
    "language_info": {
      "codemirror_mode": {
        "name": "ipython",
        "version": 3
      },
      "file_extension": ".py",
      "mimetype": "text/x-python",
      "name": "python",
      "nbconvert_exporter": "python",
      "pygments_lexer": "ipython3",
      "version": "3.10.12"
    },
    "colab": {
      "provenance": []
    }
  },
  "nbformat": 4,
  "nbformat_minor": 0
}