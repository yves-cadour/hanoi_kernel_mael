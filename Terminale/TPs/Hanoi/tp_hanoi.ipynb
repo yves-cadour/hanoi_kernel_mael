{
  "cells": [
    {
      "cell_type": "markdown",
      "metadata": {
        "id": "66r502rQKZi5"
      },
      "source": [
        "[Accueil](../../../index.ipynb) > [Sommaire de Terminale](../../index.ipynb)"
      ]
    },
    {
      "cell_type": "markdown",
      "metadata": {
        "id": "RYwtibS-KZi6"
      },
      "source": [
        "# TP Tour de Hanoï\n",
        "\n",
        "![](https://github.com/saintlouis29/coursNSI/blob/main/Terminale/TPs/Hanoi/hanoi_picture.jpg?raw=1)\n",
        "\n",
        "Voir les règles du jeu sur [Wikipedia](https://fr.wikipedia.org/wiki/Tours_de_Hano%C3%AF).\n",
        "\n",
        "\n",
        "Pour réaliser ce TP, il est nécessaire d'avoir vu les notions suivantes:\n",
        "- Programmation orientée objet\n",
        "- Récursivité\n",
        "- Pile\n",
        "\n",
        "Et d'avoir **implémenté une pile**.\n",
        "\n"
      ]
    },
    {
      "cell_type": "markdown",
      "metadata": {
        "id": "sa680YvWKZi7"
      },
      "source": [
        "## Utilisation\n",
        "\n",
        "La classe s'appelle *Hanoi*.\n",
        "\n",
        "En voici l'utilisation:\n",
        "\n",
        "```\n",
        ">>> from sl29.hanoi import Hanoi\n",
        ">>> game = Hanoi(5)\n",
        ">>> game\n",
        "(1,2,3,4,5), (), ()\n",
        "```\n",
        "\n",
        "## Mise en place\n",
        "\n",
        "- Activez votre python virtuel *structures*;\n",
        "- Faire un fork de ce dépôt ; https://github.com/saintlouis29/sl29.hanoi\n",
        "- Cloner votre fork sur votre ordinateur\n",
        "- Lire le README\n",
        "- Normalement, vous devriez pouvoir importer un jeu de Hanoi comme suit: from sl29.hanoi import Hanoi"
      ]
    },
    {
      "cell_type": "markdown",
      "metadata": {
        "id": "Auuo3MLdKZi7"
      },
      "source": [
        "## Tests\n",
        "\n",
        "Ecrire vos tests AVANT de vous lancer dans l'implémentation !\n",
        "\n",
        "## Interface/Implémentation\n",
        "\n",
        "Dans le module hanoi.py, implémenter les méthodes de l'interface afin de pouvoir jouer."
      ]
    },
    {
      "cell_type": "markdown",
      "metadata": {
        "id": "3PTdtPf7KZi8"
      },
      "source": [
        "## Résolution récursive\n",
        "\n",
        "![hanoi](https://github.com/saintlouis29/coursNSI/blob/main/Terminale/TPs/Hanoi/hanoi.png?raw=1)"
      ]
    },
    {
      "cell_type": "markdown",
      "metadata": {
        "id": "uyHI9742KZi8"
      },
      "source": [
        "Résoudre le déplacement de n disques du pilier source A vers le pilier de destination C en utilisant le pilier intermédiaire B revient à\n",
        "\n",
        "- déplacer n-1 disques du pilier source A vers le pilier de destination B en utilisant comme intermédiaire le pilier C (step2). **On est sûr de passer par cette étape, car le plus gros disque devra forcément être seul sur son pilier pour pouvoir le déplacer sur le début du pilier de destination**\n",
        "- à déplacer le disque restant vers du pilier source vers le pilier de destination C (step3)\n",
        "- déplacer n-1 disques du pilier de départ B vers le pilier de destination C en utilisant comme intermédiaire le pilier A (step4)\n",
        "\n",
        "Le cas d'arrêt est quand n=1. La solution est alors triviale : on déplace le disque de sa source vers sa destination.\n",
        "\n",
        "\n",
        "La signature de notre fonction récursive est:\n",
        "\n",
        "```python\n",
        "\n",
        "def resoudre_hanoi(n, source, intermediaire, destination):\n",
        "    \"\"\"\n",
        "    n: int le nombre d'anneaux à déplacer\n",
        "    source : le pilier source\n",
        "    intermediaire : le pilier qui sert d'intermédiaire\n",
        "    destination : le pilier de destination\n",
        "    \"\"\"\n",
        "    pass\n",
        "```\n",
        "\n",
        "et voici une implémentation en pseudo code\n",
        "\n",
        "```\n",
        "\n",
        "resoudre_hanoi(n, source, intermediaire, destination):\n",
        "    si n==1 alors:\n",
        "        deplacer le disque de la source à la destination\n",
        "    sinon:\n",
        "        resoudre_hanoi(n-1, source, destination, intermediaire) # step1->step2\n",
        "        déplacer le disque restant de la source à la destination #step2->step3\n",
        "        resoudre_hanoi(n-1, intermediaire, source, destination, ) # step3->step4    \n",
        "```\n",
        "\n",
        "\n",
        "<div class=\"alert alert-info\">\n",
        "\n",
        "Cet algorithme fonctionne uniquement si le jeu se trouve à sa position initiale.\n",
        "\n",
        "Ajouter une vérification pour tester que le jeu est en position initiale, si ce n'est pas le cas, la méthode doit lever l'exception 'ResolveHanoiError'.\n",
        "\n",
        "Un algorithme généralisé à une position quelconque est disponible sur [Wikipedia](https://fr.wikipedia.org/wiki/Tours_de_Hano%C3%AF#Algorithme_g%C3%A9n%C3%A9ralis%C3%A9_%C3%A0_une_position_quelconque).\n",
        "Si le coeur vous en dit...\n",
        "</div>\n",
        "    "
      ]
    },
    {
      "cell_type": "code",
      "execution_count": null,
      "metadata": {
        "id": "ftQCQg3uKZi9"
      },
      "outputs": [],
      "source": []
    }
  ],
  "metadata": {
    "kernelspec": {
      "display_name": "Python 3 (ipykernel)",
      "language": "python",
      "name": "python3"
    },
    "language_info": {
      "codemirror_mode": {
        "name": "ipython",
        "version": 3
      },
      "file_extension": ".py",
      "mimetype": "text/x-python",
      "name": "python",
      "nbconvert_exporter": "python",
      "pygments_lexer": "ipython3",
      "version": "3.12.3"
    },
    "colab": {
      "provenance": []
    }
  },
  "nbformat": 4,
  "nbformat_minor": 0
}